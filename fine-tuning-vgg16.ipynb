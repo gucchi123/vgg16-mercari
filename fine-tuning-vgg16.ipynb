{
 "cells": [
  {
   "cell_type": "code",
   "execution_count": 2,
   "metadata": {},
   "outputs": [
    {
     "name": "stderr",
     "output_type": "stream",
     "text": [
      "Using TensorFlow backend.\n"
     ]
    }
   ],
   "source": [
    "import os\n",
    "from keras.applications.vgg16 import VGG16\n",
    "from keras.preprocessing.image import ImageDataGenerator\n",
    "from keras.preprocessing import image\n",
    "from keras.models import Sequential, Model\n",
    "from keras.layers import Input, Activation, Flatten, Dense, Dropout\n",
    "from keras import optimizers\n",
    "import numpy as np\n",
    "import matplotlib.pyplot as plt\n",
    "from IPython.core.display import Image, display"
   ]
  },
  {
   "cell_type": "code",
   "execution_count": 3,
   "metadata": {
    "collapsed": true
   },
   "outputs": [],
   "source": [
    "batch_size = 32\n",
    "epochs = 50\n",
    "\n",
    "classes = ['gun', 'money', 'ticket']\n",
    "nb_classes = len(classes)\n",
    "\n",
    "img_rows = 100\n",
    "img_cols = 100\n",
    "channels = 3\n",
    "\n",
    "train_data_dir = './data/train'\n",
    "validation_data_dir = './data/validation'\n",
    "\n",
    "result_dir = './results'"
   ]
  },
  {
   "cell_type": "code",
   "execution_count": 4,
   "metadata": {
    "collapsed": true
   },
   "outputs": [],
   "source": [
    "if not os.path.exists(result_dir):\n",
    "    os.mkdir(result_dir)"
   ]
  },
  {
   "cell_type": "code",
   "execution_count": 5,
   "metadata": {
    "collapsed": true
   },
   "outputs": [],
   "source": [
    "input_tensor = Input(shape=(img_rows,img_cols, channels))\n",
    "base_model = VGG16(weights='imagenet', input_tensor=input_tensor, include_top=False)"
   ]
  },
  {
   "cell_type": "code",
   "execution_count": 6,
   "metadata": {
    "scrolled": true
   },
   "outputs": [
    {
     "name": "stdout",
     "output_type": "stream",
     "text": [
      "_________________________________________________________________\n",
      "Layer (type)                 Output Shape              Param #   \n",
      "=================================================================\n",
      "input_1 (InputLayer)         (None, 100, 100, 3)       0         \n",
      "_________________________________________________________________\n",
      "block1_conv1 (Conv2D)        (None, 100, 100, 64)      1792      \n",
      "_________________________________________________________________\n",
      "block1_conv2 (Conv2D)        (None, 100, 100, 64)      36928     \n",
      "_________________________________________________________________\n",
      "block1_pool (MaxPooling2D)   (None, 50, 50, 64)        0         \n",
      "_________________________________________________________________\n",
      "block2_conv1 (Conv2D)        (None, 50, 50, 128)       73856     \n",
      "_________________________________________________________________\n",
      "block2_conv2 (Conv2D)        (None, 50, 50, 128)       147584    \n",
      "_________________________________________________________________\n",
      "block2_pool (MaxPooling2D)   (None, 25, 25, 128)       0         \n",
      "_________________________________________________________________\n",
      "block3_conv1 (Conv2D)        (None, 25, 25, 256)       295168    \n",
      "_________________________________________________________________\n",
      "block3_conv2 (Conv2D)        (None, 25, 25, 256)       590080    \n",
      "_________________________________________________________________\n",
      "block3_conv3 (Conv2D)        (None, 25, 25, 256)       590080    \n",
      "_________________________________________________________________\n",
      "block3_pool (MaxPooling2D)   (None, 12, 12, 256)       0         \n",
      "_________________________________________________________________\n",
      "block4_conv1 (Conv2D)        (None, 12, 12, 512)       1180160   \n",
      "_________________________________________________________________\n",
      "block4_conv2 (Conv2D)        (None, 12, 12, 512)       2359808   \n",
      "_________________________________________________________________\n",
      "block4_conv3 (Conv2D)        (None, 12, 12, 512)       2359808   \n",
      "_________________________________________________________________\n",
      "block4_pool (MaxPooling2D)   (None, 6, 6, 512)         0         \n",
      "_________________________________________________________________\n",
      "block5_conv1 (Conv2D)        (None, 6, 6, 512)         2359808   \n",
      "_________________________________________________________________\n",
      "block5_conv2 (Conv2D)        (None, 6, 6, 512)         2359808   \n",
      "_________________________________________________________________\n",
      "block5_conv3 (Conv2D)        (None, 6, 6, 512)         2359808   \n",
      "_________________________________________________________________\n",
      "block5_pool (MaxPooling2D)   (None, 3, 3, 512)         0         \n",
      "=================================================================\n",
      "Total params: 14,714,688\n",
      "Trainable params: 14,714,688\n",
      "Non-trainable params: 0\n",
      "_________________________________________________________________\n"
     ]
    }
   ],
   "source": [
    "base_model.summary()\n",
    "#include_topをfalseとすると最終的な出力層に近い部分を除くことができる"
   ]
  },
  {
   "cell_type": "code",
   "execution_count": 7,
   "metadata": {
    "collapsed": true
   },
   "outputs": [],
   "source": [
    "x = base_model.output"
   ]
  },
  {
   "cell_type": "code",
   "execution_count": 8,
   "metadata": {
    "collapsed": true
   },
   "outputs": [],
   "source": [
    "x = Flatten(input_shape=base_model.output_shape[1:])(x)\n",
    "x = Dense(256, activation='relu')(x)\n",
    "x = Dropout(0.5)(x)\n",
    "\n",
    "predictions = Dense(nb_classes, activation=\"softmax\")(x)"
   ]
  },
  {
   "cell_type": "code",
   "execution_count": 9,
   "metadata": {},
   "outputs": [
    {
     "name": "stdout",
     "output_type": "stream",
     "text": [
      "_________________________________________________________________\n",
      "Layer (type)                 Output Shape              Param #   \n",
      "=================================================================\n",
      "input_1 (InputLayer)         (None, 100, 100, 3)       0         \n",
      "_________________________________________________________________\n",
      "block1_conv1 (Conv2D)        (None, 100, 100, 64)      1792      \n",
      "_________________________________________________________________\n",
      "block1_conv2 (Conv2D)        (None, 100, 100, 64)      36928     \n",
      "_________________________________________________________________\n",
      "block1_pool (MaxPooling2D)   (None, 50, 50, 64)        0         \n",
      "_________________________________________________________________\n",
      "block2_conv1 (Conv2D)        (None, 50, 50, 128)       73856     \n",
      "_________________________________________________________________\n",
      "block2_conv2 (Conv2D)        (None, 50, 50, 128)       147584    \n",
      "_________________________________________________________________\n",
      "block2_pool (MaxPooling2D)   (None, 25, 25, 128)       0         \n",
      "_________________________________________________________________\n",
      "block3_conv1 (Conv2D)        (None, 25, 25, 256)       295168    \n",
      "_________________________________________________________________\n",
      "block3_conv2 (Conv2D)        (None, 25, 25, 256)       590080    \n",
      "_________________________________________________________________\n",
      "block3_conv3 (Conv2D)        (None, 25, 25, 256)       590080    \n",
      "_________________________________________________________________\n",
      "block3_pool (MaxPooling2D)   (None, 12, 12, 256)       0         \n",
      "_________________________________________________________________\n",
      "block4_conv1 (Conv2D)        (None, 12, 12, 512)       1180160   \n",
      "_________________________________________________________________\n",
      "block4_conv2 (Conv2D)        (None, 12, 12, 512)       2359808   \n",
      "_________________________________________________________________\n",
      "block4_conv3 (Conv2D)        (None, 12, 12, 512)       2359808   \n",
      "_________________________________________________________________\n",
      "block4_pool (MaxPooling2D)   (None, 6, 6, 512)         0         \n",
      "_________________________________________________________________\n",
      "block5_conv1 (Conv2D)        (None, 6, 6, 512)         2359808   \n",
      "_________________________________________________________________\n",
      "block5_conv2 (Conv2D)        (None, 6, 6, 512)         2359808   \n",
      "_________________________________________________________________\n",
      "block5_conv3 (Conv2D)        (None, 6, 6, 512)         2359808   \n",
      "_________________________________________________________________\n",
      "block5_pool (MaxPooling2D)   (None, 3, 3, 512)         0         \n",
      "_________________________________________________________________\n",
      "flatten_1 (Flatten)          (None, 4608)              0         \n",
      "_________________________________________________________________\n",
      "dense_1 (Dense)              (None, 256)               1179904   \n",
      "_________________________________________________________________\n",
      "dropout_1 (Dropout)          (None, 256)               0         \n",
      "_________________________________________________________________\n",
      "dense_2 (Dense)              (None, 3)                 771       \n",
      "=================================================================\n",
      "Total params: 15,895,363\n",
      "Trainable params: 15,895,363\n",
      "Non-trainable params: 0\n",
      "_________________________________________________________________\n"
     ]
    }
   ],
   "source": [
    "model = Model(inputs=base_model.input, outputs=predictions)\n",
    "model.summary()"
   ]
  },
  {
   "cell_type": "code",
   "execution_count": 10,
   "metadata": {
    "collapsed": true
   },
   "outputs": [],
   "source": [
    "for layer in model.layers[:15]:\n",
    "    layer.trainable = False"
   ]
  },
  {
   "cell_type": "code",
   "execution_count": 11,
   "metadata": {
    "collapsed": true
   },
   "outputs": [],
   "source": [
    "model.compile(loss=\"categorical_crossentropy\",\n",
    "             optimizer=optimizers.SGD(lr=1e-4, momentum=0.9),\n",
    "             metrics=[\"accuracy\"])"
   ]
  },
  {
   "cell_type": "code",
   "execution_count": 12,
   "metadata": {
    "collapsed": true
   },
   "outputs": [],
   "source": [
    "train_datagen = ImageDataGenerator(\n",
    "    rescale = 1.0/255,\n",
    "    shear_range = 0.2, #シーア変換\n",
    "    zoom_range = 0.2, #ランダムにズーム\n",
    "    rotation_range = 5, #ランダムに回転\n",
    "    horizontal_flip = True #水平方向に反転\n",
    "    \n",
    ")"
   ]
  },
  {
   "cell_type": "code",
   "execution_count": 13,
   "metadata": {
    "collapsed": true
   },
   "outputs": [],
   "source": [
    "test_datagen = ImageDataGenerator(rescale=1.0/255)"
   ]
  },
  {
   "cell_type": "code",
   "execution_count": 14,
   "metadata": {},
   "outputs": [
    {
     "name": "stdout",
     "output_type": "stream",
     "text": [
      "Found 881 images belonging to 3 classes.\n",
      "Found 111 images belonging to 3 classes.\n"
     ]
    }
   ],
   "source": [
    "train_generator = train_datagen.flow_from_directory(\n",
    "    train_data_dir,\n",
    "    target_size=(img_rows, img_cols),\n",
    "    color_mode = 'rgb',\n",
    "    classes = classes,\n",
    "    class_mode = \"categorical\",\n",
    "    batch_size = batch_size,\n",
    "    shuffle = True\n",
    ")\n",
    "\n",
    "validation_generator = test_datagen.flow_from_directory(\n",
    "    validation_data_dir,\n",
    "    target_size=(img_rows, img_cols),\n",
    "    color_mode = 'rgb',\n",
    "    classes = classes,\n",
    "    class_mode = \"categorical\",\n",
    "    batch_size = batch_size,\n",
    "    shuffle = True\n",
    ")"
   ]
  },
  {
   "cell_type": "code",
   "execution_count": 15,
   "metadata": {},
   "outputs": [
    {
     "name": "stdout",
     "output_type": "stream",
     "text": [
      "Epoch 1/50\n",
      "27/27 [==============================] - 146s 5s/step - loss: 1.1242 - acc: 0.4609 - val_loss: 0.9080 - val_acc: 0.6250\n",
      "Epoch 2/50\n",
      "27/27 [==============================] - 215s 8s/step - loss: 0.8249 - acc: 0.6324 - val_loss: 0.6491 - val_acc: 0.7292\n",
      "Epoch 3/50\n",
      "27/27 [==============================] - 172s 6s/step - loss: 0.6056 - acc: 0.7593 - val_loss: 0.4520 - val_acc: 0.8333\n",
      "Epoch 4/50\n",
      "27/27 [==============================] - 164s 6s/step - loss: 0.5307 - acc: 0.8060 - val_loss: 0.3414 - val_acc: 0.9062\n",
      "Epoch 5/50\n",
      "27/27 [==============================] - 167s 6s/step - loss: 0.4377 - acc: 0.8409 - val_loss: 0.2985 - val_acc: 0.9062\n",
      "Epoch 6/50\n",
      "27/27 [==============================] - 165s 6s/step - loss: 0.3908 - acc: 0.8484 - val_loss: 0.2576 - val_acc: 0.9271\n",
      "Epoch 7/50\n",
      "27/27 [==============================] - 157s 6s/step - loss: 0.3619 - acc: 0.8616 - val_loss: 0.2317 - val_acc: 0.9375\n",
      "Epoch 8/50\n",
      "27/27 [==============================] - 160s 6s/step - loss: 0.3396 - acc: 0.8801 - val_loss: 0.2292 - val_acc: 0.9271\n",
      "Epoch 9/50\n",
      "27/27 [==============================] - 232s 9s/step - loss: 0.3078 - acc: 0.8857 - val_loss: 0.1988 - val_acc: 0.9375\n",
      "Epoch 10/50\n",
      "27/27 [==============================] - 317s 12s/step - loss: 0.3272 - acc: 0.8808 - val_loss: 0.1921 - val_acc: 0.9375\n",
      "Epoch 11/50\n",
      "27/27 [==============================] - 328s 12s/step - loss: 0.2953 - acc: 0.8983 - val_loss: 0.1804 - val_acc: 0.9479\n",
      "Epoch 12/50\n",
      "27/27 [==============================] - 322s 12s/step - loss: 0.3057 - acc: 0.8885 - val_loss: 0.1732 - val_acc: 0.9479\n",
      "Epoch 13/50\n",
      "27/27 [==============================] - 389s 14s/step - loss: 0.2463 - acc: 0.9155 - val_loss: 0.1632 - val_acc: 0.9688\n",
      "Epoch 14/50\n",
      "27/27 [==============================] - 585s 22s/step - loss: 0.2525 - acc: 0.9138 - val_loss: 0.1580 - val_acc: 0.9479\n",
      "Epoch 15/50\n",
      "27/27 [==============================] - 327s 12s/step - loss: 0.2157 - acc: 0.9214 - val_loss: 0.1552 - val_acc: 0.9479\n",
      "Epoch 16/50\n",
      "27/27 [==============================] - 346s 13s/step - loss: 0.2280 - acc: 0.9062 - val_loss: 0.1489 - val_acc: 0.9688\n",
      "Epoch 17/50\n",
      "27/27 [==============================] - 142s 5s/step - loss: 0.1879 - acc: 0.9446 - val_loss: 0.1411 - val_acc: 0.9583\n",
      "Epoch 18/50\n",
      "27/27 [==============================] - 12699s 470s/step - loss: 0.2196 - acc: 0.9203 - val_loss: 0.1392 - val_acc: 0.9583\n",
      "Epoch 19/50\n",
      "27/27 [==============================] - 156s 6s/step - loss: 0.2326 - acc: 0.9136 - val_loss: 0.1422 - val_acc: 0.9583\n",
      "Epoch 20/50\n",
      "27/27 [==============================] - 158s 6s/step - loss: 0.2146 - acc: 0.9225 - val_loss: 0.1417 - val_acc: 0.9688\n",
      "Epoch 21/50\n",
      "27/27 [==============================] - 159s 6s/step - loss: 0.1851 - acc: 0.9398 - val_loss: 0.1399 - val_acc: 0.9583\n",
      "Epoch 22/50\n",
      "27/27 [==============================] - 168s 6s/step - loss: 0.2184 - acc: 0.9124 - val_loss: 0.1444 - val_acc: 0.9479\n",
      "Epoch 23/50\n",
      "27/27 [==============================] - 164s 6s/step - loss: 0.1906 - acc: 0.9332 - val_loss: 0.1480 - val_acc: 0.9583\n",
      "Epoch 24/50\n",
      "27/27 [==============================] - 182s 7s/step - loss: 0.2069 - acc: 0.9282 - val_loss: 0.1448 - val_acc: 0.9583\n",
      "Epoch 25/50\n",
      "27/27 [==============================] - 180s 7s/step - loss: 0.2088 - acc: 0.9229 - val_loss: 0.1486 - val_acc: 0.9583\n",
      "Epoch 26/50\n",
      "27/27 [==============================] - 181s 7s/step - loss: 0.1519 - acc: 0.9479 - val_loss: 0.1373 - val_acc: 0.9688\n",
      "Epoch 27/50\n",
      "27/27 [==============================] - 183s 7s/step - loss: 0.1746 - acc: 0.9363 - val_loss: 0.1362 - val_acc: 0.9688\n",
      "Epoch 28/50\n",
      "27/27 [==============================] - 175s 6s/step - loss: 0.1665 - acc: 0.9424 - val_loss: 0.1364 - val_acc: 0.9688\n",
      "Epoch 29/50\n",
      "27/27 [==============================] - 180s 7s/step - loss: 0.1566 - acc: 0.9471 - val_loss: 0.1476 - val_acc: 0.9688\n",
      "Epoch 30/50\n",
      "27/27 [==============================] - 172s 6s/step - loss: 0.1570 - acc: 0.9376 - val_loss: 0.1351 - val_acc: 0.9583\n",
      "Epoch 31/50\n",
      "27/27 [==============================] - 171s 6s/step - loss: 0.1711 - acc: 0.9365 - val_loss: 0.1385 - val_acc: 0.9688\n",
      "Epoch 32/50\n",
      "27/27 [==============================] - 170s 6s/step - loss: 0.1586 - acc: 0.9444 - val_loss: 0.1436 - val_acc: 0.9583\n",
      "Epoch 33/50\n",
      "27/27 [==============================] - 167s 6s/step - loss: 0.1631 - acc: 0.9433 - val_loss: 0.1396 - val_acc: 0.9688\n",
      "Epoch 34/50\n",
      "27/27 [==============================] - 170s 6s/step - loss: 0.1515 - acc: 0.9456 - val_loss: 0.1521 - val_acc: 0.9583\n",
      "Epoch 35/50\n",
      "27/27 [==============================] - 179s 7s/step - loss: 0.1291 - acc: 0.9596 - val_loss: 0.1401 - val_acc: 0.9583\n",
      "Epoch 36/50\n",
      "27/27 [==============================] - 187s 7s/step - loss: 0.1283 - acc: 0.9583 - val_loss: 0.1413 - val_acc: 0.9688\n",
      "Epoch 37/50\n",
      "27/27 [==============================] - 176s 7s/step - loss: 0.1390 - acc: 0.9517 - val_loss: 0.1398 - val_acc: 0.9688\n",
      "Epoch 38/50\n",
      "27/27 [==============================] - 175s 6s/step - loss: 0.1361 - acc: 0.9583 - val_loss: 0.1331 - val_acc: 0.9583\n",
      "Epoch 39/50\n",
      "27/27 [==============================] - 192s 7s/step - loss: 0.1442 - acc: 0.9502 - val_loss: 0.1408 - val_acc: 0.9583\n",
      "Epoch 40/50\n",
      "27/27 [==============================] - 179s 7s/step - loss: 0.1199 - acc: 0.9540 - val_loss: 0.1424 - val_acc: 0.9688\n",
      "Epoch 41/50\n",
      "27/27 [==============================] - 180s 7s/step - loss: 0.1597 - acc: 0.9456 - val_loss: 0.1346 - val_acc: 0.9583\n",
      "Epoch 42/50\n",
      "27/27 [==============================] - 198s 7s/step - loss: 0.1405 - acc: 0.9433 - val_loss: 0.1451 - val_acc: 0.9583\n",
      "Epoch 43/50\n",
      "27/27 [==============================] - 181s 7s/step - loss: 0.1021 - acc: 0.9676 - val_loss: 0.1373 - val_acc: 0.9688\n",
      "Epoch 44/50\n",
      "27/27 [==============================] - 182s 7s/step - loss: 0.1315 - acc: 0.9631 - val_loss: 0.1497 - val_acc: 0.9583\n",
      "Epoch 45/50\n",
      "27/27 [==============================] - 188s 7s/step - loss: 0.1420 - acc: 0.9517 - val_loss: 0.1456 - val_acc: 0.9583\n",
      "Epoch 46/50\n",
      "27/27 [==============================] - 196s 7s/step - loss: 0.1050 - acc: 0.9745 - val_loss: 0.1354 - val_acc: 0.9688\n",
      "Epoch 47/50\n",
      "27/27 [==============================] - 179s 7s/step - loss: 0.1190 - acc: 0.9620 - val_loss: 0.1473 - val_acc: 0.9583\n",
      "Epoch 48/50\n",
      "27/27 [==============================] - 189s 7s/step - loss: 0.1060 - acc: 0.9641 - val_loss: 0.1393 - val_acc: 0.9583\n",
      "Epoch 49/50\n",
      "27/27 [==============================] - 170s 6s/step - loss: 0.1112 - acc: 0.9596 - val_loss: 0.1354 - val_acc: 0.9688\n",
      "Epoch 50/50\n",
      "27/27 [==============================] - 183s 7s/step - loss: 0.1058 - acc: 0.9699 - val_loss: 0.1252 - val_acc: 0.9688\n"
     ]
    }
   ],
   "source": [
    "history = model.fit_generator(\n",
    "    train_generator,\n",
    "    steps_per_epoch = train_generator.samples//batch_size,\n",
    "    epochs = epochs,\n",
    "    validation_data = validation_generator,\n",
    "    validation_steps = validation_generator.samples//batch_size\n",
    ")"
   ]
  },
  {
   "cell_type": "code",
   "execution_count": 16,
   "metadata": {},
   "outputs": [
    {
     "data": {
      "text/plain": [
       "881"
      ]
     },
     "execution_count": 16,
     "metadata": {},
     "output_type": "execute_result"
    }
   ],
   "source": [
    "train_generator.samples"
   ]
  },
  {
   "cell_type": "code",
   "execution_count": 17,
   "metadata": {},
   "outputs": [
    {
     "data": {
      "text/plain": [
       "{'acc': [0.46171967030554412,\n",
       "  0.6301531216000219,\n",
       "  0.7592592592592593,\n",
       "  0.80565371045796697,\n",
       "  0.84052757829499192,\n",
       "  0.84837962962962965,\n",
       "  0.86091127126908706,\n",
       "  0.88103651375596459,\n",
       "  0.88574793889188375,\n",
       "  0.88078703703703709,\n",
       "  0.89752650183699012,\n",
       "  0.88968824975782157,\n",
       "  0.9155092592592593,\n",
       "  0.91486810580146116,\n",
       "  0.92108362786761444,\n",
       "  0.90625,\n",
       "  0.94464075389823865,\n",
       "  0.91990577156608322,\n",
       "  0.91366906496260658,\n",
       "  0.92245370370370372,\n",
       "  0.93875147232037692,\n",
       "  0.9124700241952205,\n",
       "  0.9340400472546635,\n",
       "  0.9282407407407407,\n",
       "  0.92461719691261945,\n",
       "  0.94699646643109536,\n",
       "  0.93521790341578326,\n",
       "  0.94346289766691316,\n",
       "  0.94817432287303804,\n",
       "  0.93757361608905143,\n",
       "  0.93639575978752021,\n",
       "  0.94346289752650181,\n",
       "  0.94228504122497059,\n",
       "  0.94560185185185186,\n",
       "  0.95923261398034132,\n",
       "  0.95833333333333337,\n",
       "  0.9520383694474932,\n",
       "  0.95759717314487636,\n",
       "  0.95023148148148151,\n",
       "  0.95443645098226537,\n",
       "  0.94464075382803303,\n",
       "  0.94328703703703709,\n",
       "  0.96702002355712602,\n",
       "  0.96282973628249957,\n",
       "  0.95288574807916293,\n",
       "  0.97408716136631335,\n",
       "  0.96230859842120686,\n",
       "  0.96412037037037035,\n",
       "  0.95995288581814442,\n",
       "  0.96937573616018846],\n",
       " 'loss': [1.1229086079501993,\n",
       "  0.82819304765323865,\n",
       "  0.60561868769151195,\n",
       "  0.5317079310422792,\n",
       "  0.43793388636563896,\n",
       "  0.39082459056818925,\n",
       "  0.3650842823034568,\n",
       "  0.33767935517819947,\n",
       "  0.30825287577541471,\n",
       "  0.32717868575343378,\n",
       "  0.29633140521841422,\n",
       "  0.30376143256823224,\n",
       "  0.24626090791490343,\n",
       "  0.25209551669067615,\n",
       "  0.21543093417081169,\n",
       "  0.22795985708082164,\n",
       "  0.18926173938247426,\n",
       "  0.22028435415668399,\n",
       "  0.23017995495447438,\n",
       "  0.21457495954301622,\n",
       "  0.18725527494759667,\n",
       "  0.21954871652473648,\n",
       "  0.18973864002418742,\n",
       "  0.20687082299479731,\n",
       "  0.20768101192194666,\n",
       "  0.15302094839978414,\n",
       "  0.17497866487545174,\n",
       "  0.16379677315623234,\n",
       "  0.15511916065314352,\n",
       "  0.15811522593732716,\n",
       "  0.1716073553645007,\n",
       "  0.16050777666806051,\n",
       "  0.16427278970625994,\n",
       "  0.15151021091474426,\n",
       "  0.12962420684077758,\n",
       "  0.12826547951058107,\n",
       "  0.13803780864593651,\n",
       "  0.13782504328621992,\n",
       "  0.14415940145651499,\n",
       "  0.11847367772845913,\n",
       "  0.16092963217460365,\n",
       "  0.14053632125810342,\n",
       "  0.10260810201068368,\n",
       "  0.13191358615561641,\n",
       "  0.13937847830521907,\n",
       "  0.10541042898758561,\n",
       "  0.11697887351080442,\n",
       "  0.10598845365974638,\n",
       "  0.11059965047594796,\n",
       "  0.10642749725789429],\n",
       " 'val_acc': [0.625,\n",
       "  0.72916666666666663,\n",
       "  0.83333333333333337,\n",
       "  0.90625,\n",
       "  0.90625,\n",
       "  0.92708333333333337,\n",
       "  0.9375,\n",
       "  0.92708333333333337,\n",
       "  0.9375,\n",
       "  0.9375,\n",
       "  0.94791666666666663,\n",
       "  0.94791666666666663,\n",
       "  0.96875,\n",
       "  0.94791666666666663,\n",
       "  0.94791666666666663,\n",
       "  0.96875,\n",
       "  0.95833333333333337,\n",
       "  0.95833333333333337,\n",
       "  0.95833333333333337,\n",
       "  0.96875,\n",
       "  0.95833333333333337,\n",
       "  0.94791666666666663,\n",
       "  0.95833333333333337,\n",
       "  0.95833333333333337,\n",
       "  0.95833333333333337,\n",
       "  0.96875,\n",
       "  0.96875,\n",
       "  0.96875,\n",
       "  0.96875,\n",
       "  0.95833333333333337,\n",
       "  0.96875,\n",
       "  0.95833333333333337,\n",
       "  0.96875,\n",
       "  0.95833333333333337,\n",
       "  0.95833333333333337,\n",
       "  0.96875,\n",
       "  0.96875,\n",
       "  0.95833333333333337,\n",
       "  0.95833333333333337,\n",
       "  0.96875,\n",
       "  0.95833333333333337,\n",
       "  0.95833333333333337,\n",
       "  0.96875,\n",
       "  0.95833333333333337,\n",
       "  0.95833333333333337,\n",
       "  0.96875,\n",
       "  0.95833333333333337,\n",
       "  0.95833333333333337,\n",
       "  0.96875,\n",
       "  0.96875],\n",
       " 'val_loss': [0.90798815091451013,\n",
       "  0.64905279874801636,\n",
       "  0.45203651984532672,\n",
       "  0.34141099452972412,\n",
       "  0.29852389295895893,\n",
       "  0.25760734081268311,\n",
       "  0.23171981175740561,\n",
       "  0.2291883279879888,\n",
       "  0.19878506163756052,\n",
       "  0.19205632309118906,\n",
       "  0.18044048547744751,\n",
       "  0.17323525746663412,\n",
       "  0.16324861844380698,\n",
       "  0.15798057864109674,\n",
       "  0.15520775566498438,\n",
       "  0.1489347517490387,\n",
       "  0.14107300092776617,\n",
       "  0.13915130744377771,\n",
       "  0.14215823014577231,\n",
       "  0.14171102146307626,\n",
       "  0.13987196981906891,\n",
       "  0.14436881244182587,\n",
       "  0.14800729850927988,\n",
       "  0.14483762035767236,\n",
       "  0.14856493721405664,\n",
       "  0.1372608964641889,\n",
       "  0.13620739181836447,\n",
       "  0.13635964194933572,\n",
       "  0.14763670663038889,\n",
       "  0.13505173971255621,\n",
       "  0.13847377647956213,\n",
       "  0.14363538473844528,\n",
       "  0.13955397407213846,\n",
       "  0.15205773214499155,\n",
       "  0.1401058497528235,\n",
       "  0.1412641778588295,\n",
       "  0.13982354352871576,\n",
       "  0.13307387133439383,\n",
       "  0.14077385639150938,\n",
       "  0.14238926768302917,\n",
       "  0.13464851180712381,\n",
       "  0.14510829870899519,\n",
       "  0.13729868456721306,\n",
       "  0.14968387161691984,\n",
       "  0.14564566314220428,\n",
       "  0.13544317583243051,\n",
       "  0.14725001156330109,\n",
       "  0.13926588123043379,\n",
       "  0.13535032545526823,\n",
       "  0.1251517211397489]}"
      ]
     },
     "execution_count": 17,
     "metadata": {},
     "output_type": "execute_result"
    }
   ],
   "source": [
    "history.history"
   ]
  },
  {
   "cell_type": "code",
   "execution_count": 18,
   "metadata": {},
   "outputs": [
    {
     "data": {
      "image/png": "[encoded data removed]",
      "text/plain": [
       "<matplotlib.figure.Figure at 0x2aa4e32f358>"
      ]
     },
     "metadata": {},
     "output_type": "display_data"
    }
   ],
   "source": [
    "loss = history.history['loss']\n",
    "val_loss = history.history['val_loss']\n",
    "\n",
    "plt.plot(range(epochs), loss, marker='.', label=\"loss\")\n",
    "plt.plot(range(epochs), val_loss, marker='.', label=\"val_loss\")\n",
    "plt.legend(loc=\"best\")\n",
    "plt.grid()\n",
    "plt.xlabel(\"epochs\")\n",
    "plt.ylabel(\"loss\")\n",
    "plt.show()\n"
   ]
  },
  {
   "cell_type": "code",
   "execution_count": 19,
   "metadata": {},
   "outputs": [
    {
     "data": {
      "image/png": "[encoded data removed]",
      "text/plain": [
       "<matplotlib.figure.Figure at 0x2aa4f4e4860>"
      ]
     },
     "metadata": {},
     "output_type": "display_data"
    }
   ],
   "source": [
    "loss = history.history['acc']\n",
    "val_loss = history.history['val_acc']\n",
    "\n",
    "plt.plot(range(epochs), loss, marker='.', label=\"acc\")\n",
    "plt.plot(range(epochs), val_loss, marker='.', label=\"val_acc\")\n",
    "plt.legend(loc=\"best\")\n",
    "plt.grid()\n",
    "plt.xlabel(\"epochs\")\n",
    "plt.ylabel(\"acc\")\n",
    "plt.show()\n"
   ]
  },
  {
   "cell_type": "code",
   "execution_count": 20,
   "metadata": {
    "collapsed": true
   },
   "outputs": [],
   "source": [
    "import pickle"
   ]
  },
  {
   "cell_type": "code",
   "execution_count": 25,
   "metadata": {},
   "outputs": [],
   "source": [
    "with open('./results/history.pkl', mode='wb') as f:\n",
    "    pickle.dump(history.history, f)"
   ]
  },
  {
   "cell_type": "code",
   "execution_count": 26,
   "metadata": {},
   "outputs": [],
   "source": [
    "model.save('./results/vgg16-finetuning.h5')"
   ]
  },
  {
   "cell_type": "code",
   "execution_count": 27,
   "metadata": {
    "collapsed": true
   },
   "outputs": [],
   "source": [
    "def predict(img_file_path):\n",
    "    display(Image(img_file_path, width=150, unconfined=True))\n",
    "    img = image.load_img(img_file_path, target_size=(img_rows, img_cols))\n",
    "    x = image.img_to_array(img)\n",
    "    x = np.expand_dims(x, axis=0)\n",
    "    \n",
    "    x = x/255.0\n",
    "    \n",
    "    pred = model.predict(x)[0]\n",
    "    \n",
    "    top = 5\n",
    "    \n",
    "    top_indices = pred.argsort()[-top:][::-1]\n",
    "    result = [(classes[i], pred[i]) for i in top_indices]\n",
    "    for x in result:\n",
    "        print(x)"
   ]
  },
  {
   "cell_type": "code",
   "execution_count": 29,
   "metadata": {},
   "outputs": [
    {
     "data": {
      "image/jpeg": "[encoded data removed]",
      "text/plain": [
       "<IPython.core.display.Image object>"
      ]
     },
     "metadata": {
      "image/jpeg": {
       "unconfined": true,
       "width": 150
      }
     },
     "output_type": "display_data"
    },
    {
     "name": "stdout",
     "output_type": "stream",
     "text": [
      "('money', 0.87891597)\n",
      "('ticket', 0.12008144)\n",
      "('gun', 0.0010026265)\n"
     ]
    }
   ],
   "source": [
    "predict('./data/sample/money_sample.jpg')"
   ]
  },
  {
   "cell_type": "code",
   "execution_count": 31,
   "metadata": {},
   "outputs": [
    {
     "data": {
      "image/jpeg": "[encoded data removed]",
      "text/plain": [
       "<IPython.core.display.Image object>"
      ]
     },
     "metadata": {
      "image/jpeg": {
       "unconfined": true,
       "width": 150
      }
     },
     "output_type": "display_data"
    },
    {
     "name": "stdout",
     "output_type": "stream",
     "text": [
      "('gun', 0.99987602)\n",
      "('money', 7.5886564e-05)\n",
      "('ticket', 4.8033351e-05)\n"
     ]
    }
   ],
   "source": [
    "predict('./data/sample/gun_sample.jpg')"
   ]
  },
  {
   "cell_type": "code",
   "execution_count": 32,
   "metadata": {},
   "outputs": [
    {
     "data": {
      "image/jpeg": "[encoded data removed]",
      "text/plain": [
       "<IPython.core.display.Image object>"
      ]
     },
     "metadata": {
      "image/jpeg": {
       "unconfined": true,
       "width": 150
      }
     },
     "output_type": "display_data"
    },
    {
     "name": "stdout",
     "output_type": "stream",
     "text": [
      "('ticket', 0.99871337)\n",
      "('money', 0.0012798607)\n",
      "('gun', 6.8097784e-06)\n"
     ]
    }
   ],
   "source": [
    "predict('./data/sample/ticket_sample.jpg')"
   ]
  },
  {
   "cell_type": "code",
   "execution_count": null,
   "metadata": {
    "collapsed": true
   },
   "outputs": [],
   "source": []
  }
 ],
 "metadata": {
  "kernelspec": {
   "display_name": "Python 3",
   "language": "python",
   "name": "python3"
  },
  "language_info": {
   "codemirror_mode": {
    "name": "ipython",
    "version": 3
   },
   "file_extension": ".py",
   "mimetype": "text/x-python",
   "name": "python",
   "nbconvert_exporter": "python",
   "pygments_lexer": "ipython3",
   "version": "3.6.1"
  }
 },
 "nbformat": 4,
 "nbformat_minor": 2
}
